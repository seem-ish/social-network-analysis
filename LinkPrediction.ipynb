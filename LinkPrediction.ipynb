{
 "metadata": {
  "language_info": {
   "codemirror_mode": {
    "name": "ipython",
    "version": 3
   },
   "file_extension": ".py",
   "mimetype": "text/x-python",
   "name": "python",
   "nbconvert_exporter": "python",
   "pygments_lexer": "ipython3",
   "version": "3.9.5"
  },
  "orig_nbformat": 2,
  "kernelspec": {
   "name": "python395jvsc74a57bd022de237a5951b17b82ca4661dfede58b51510a82846acbf07bf30ea71c019694",
   "display_name": "Python 3.9.5 64-bit ('social-network-analysis': conda)"
  }
 },
 "nbformat": 4,
 "nbformat_minor": 2,
 "cells": [
  {
   "source": [
    "### Link Prediction\n",
    "Definition of link prediction:\n",
    "\n",
    "Predict future relations through current network \n",
    "\n",
    "Perform link prediction on the dataset:\n",
    "- Jaccard coefficient \n",
    "- Preferential Attachment\n"
   ],
   "cell_type": "markdown",
   "metadata": {}
  },
  {
   "cell_type": "code",
   "execution_count": 1,
   "metadata": {},
   "outputs": [],
   "source": [
    "import networkx as nx \n",
    "import matplotlib.pyplot as plt \n",
    "%matplotlib inline"
   ]
  },
  {
   "cell_type": "code",
   "execution_count": 2,
   "metadata": {},
   "outputs": [
    {
     "output_type": "stream",
     "name": "stdout",
     "text": [
      "Name: \nType: Graph\nNumber of nodes: 32\nNumber of edges: 34\nAverage degree:   2.1250\n"
     ]
    }
   ],
   "source": [
    "GA = nx.read_gexf('data/ga_graph.gexf')\n",
    "print(nx.info(GA))"
   ]
  },
  {
   "source": [
    "### Jaccard Coefficient:\n",
    "\n",
    "- Analyze the proximity of nodes in a network \n",
    "- What proportion of neighbours a pair of nodes share\n",
    "- Capture with Jaccard index.\n",
    "\n",
    "$ J(A,B) = \\frac{|A \\cap B|}{|A \\cup B|} = \\frac{|A \\cap B|}{|A| +|B| - |A \\cap B|}$"
   ],
   "cell_type": "markdown",
   "metadata": {}
  },
  {
   "cell_type": "code",
   "execution_count": 4,
   "metadata": {},
   "outputs": [],
   "source": [
    "preds_jc = nx.jaccard_coefficient(GA) ## Generator object"
   ]
  },
  {
   "cell_type": "code",
   "execution_count": 5,
   "metadata": {},
   "outputs": [],
   "source": [
    "pred_jc_dict = {}\n",
    "for u,v,p in preds_jc:\n",
    "    pred_jc_dict[(u,v)] = p"
   ]
  },
  {
   "cell_type": "code",
   "execution_count": 6,
   "metadata": {},
   "outputs": [
    {
     "output_type": "execute_result",
     "data": {
      "text/plain": [
       "[(('kepner', 'mrs. seabury'), 1.0),\n",
       " (('ben', 'tucker'), 1.0),\n",
       " (('preston', 'colin'), 1.0),\n",
       " (('steve', 'finn'), 1.0),\n",
       " (('hank', 'denny'), 1.0)]"
      ]
     },
     "metadata": {},
     "execution_count": 6
    }
   ],
   "source": [
    "sorted(pred_jc_dict.items(), key= lambda x: x[1], reverse=True)[:5]"
   ]
  },
  {
   "source": [
    "### Preferential Attachment:\n",
    " - Nodes with more connections will be likely to get future connections. \n",
    " - Measure is the product of a node pairs degrees.\n",
    " \n",
    " $PA = |\\Gamma(u)|.\\Gamma(v)|$"
   ],
   "cell_type": "markdown",
   "metadata": {}
  },
  {
   "cell_type": "code",
   "execution_count": 9,
   "metadata": {},
   "outputs": [],
   "source": [
    "preds_pa = nx.preferential_attachment(GA)"
   ]
  },
  {
   "cell_type": "code",
   "execution_count": 11,
   "metadata": {},
   "outputs": [],
   "source": [
    "preds_pa_dict = {}\n",
    "for u,v,p in preds_pa:\n",
    "    preds_pa_dict[(u,v)] = p"
   ]
  },
  {
   "cell_type": "code",
   "execution_count": 12,
   "metadata": {},
   "outputs": [
    {
     "output_type": "execute_result",
     "data": {
      "text/plain": [
       "[(('sloan', 'karev'), 35),\n",
       " (('grey', 'karev'), 28),\n",
       " ((\"o'malley\", 'karev'), 28),\n",
       " (('yang', 'karev'), 21),\n",
       " (('sloan', \"o'malley\"), 20)]"
      ]
     },
     "metadata": {},
     "execution_count": 12
    }
   ],
   "source": [
    "sorted(preds_pa_dict.items(), key= lambda x: x[1], reverse=True)[:5]"
   ]
  },
  {
   "source": [
    "### Other Link Prediction Algorithms:\n",
    "\n",
    "- Common Neighbours\n",
    "- Resource Allocation Index\n",
    "- Adamic-Adar Index"
   ],
   "cell_type": "markdown",
   "metadata": {}
  },
  {
   "cell_type": "code",
   "execution_count": null,
   "metadata": {},
   "outputs": [],
   "source": []
  }
 ]
}