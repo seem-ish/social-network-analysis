{
 "metadata": {
  "language_info": {
   "codemirror_mode": {
    "name": "ipython",
    "version": 3
   },
   "file_extension": ".py",
   "mimetype": "text/x-python",
   "name": "python",
   "nbconvert_exporter": "python",
   "pygments_lexer": "ipython3",
   "version": "3.9.5"
  },
  "orig_nbformat": 2,
  "kernelspec": {
   "name": "python395jvsc74a57bd022de237a5951b17b82ca4661dfede58b51510a82846acbf07bf30ea71c019694",
   "display_name": "Python 3.9.5 64-bit ('social-network-analysis': conda)"
  }
 },
 "nbformat": 4,
 "nbformat_minor": 2,
 "cells": [
  {
   "source": [
    "### Centrality: \n",
    "    Who are the most important nodes in the graph? \n",
    "\n",
    "- Degree\n",
    "- Closeness \n",
    "- Betweenness\n",
    "- Eigenvector"
   ],
   "cell_type": "markdown",
   "metadata": {}
  },
  {
   "cell_type": "code",
   "execution_count": 4,
   "metadata": {},
   "outputs": [],
   "source": [
    "import networkx as nx "
   ]
  },
  {
   "cell_type": "code",
   "execution_count": 5,
   "metadata": {},
   "outputs": [],
   "source": [
    "import pandas as pd \n",
    "fields = ['Source','Target']\n",
    "got = pd.read_csv('data/got1.csv', usecols=fields)\n",
    "got = got.append(pd.read_csv('data/got2.csv', usecols=fields), ignore_index = True)\n",
    "got = got.append(pd.read_csv('data/got3.csv', usecols=fields), ignore_index = True)\n",
    "got = got.append(pd.read_csv('data/got4.csv', usecols=fields), ignore_index = True)\n",
    "got = got.append(pd.read_csv('data/got5.csv', usecols=fields), ignore_index = True)"
   ]
  },
  {
   "cell_type": "code",
   "execution_count": 6,
   "metadata": {},
   "outputs": [
    {
     "output_type": "stream",
     "name": "stdout",
     "text": [
      "Name: \nType: Graph\nNumber of nodes: 796\nNumber of edges: 2823\nAverage degree:   7.0930\n"
     ]
    }
   ],
   "source": [
    "GOT = nx.from_pandas_edgelist(got,source='Source',target='Target')\n",
    "print(nx.info(GOT))"
   ]
  },
  {
   "source": [
    "Degree Centrality:\n",
    "\n",
    "Degree: The number of nodes a node is connected to \n",
    "\n",
    "Centrality:\n",
    "\n",
    "$C_D(u) = \\frac{deg(u)}{(n-1)}$"
   ],
   "cell_type": "markdown",
   "metadata": {}
  },
  {
   "cell_type": "code",
   "execution_count": 10,
   "metadata": {},
   "outputs": [
    {
     "output_type": "execute_result",
     "data": {
      "text/plain": [
       "dict"
      ]
     },
     "metadata": {},
     "execution_count": 10
    }
   ],
   "source": [
    "degree_centrality = nx.degree_centrality(GOT)\n",
    "type(degree_centrality)"
   ]
  },
  {
   "source": [
    "sorted(degree_centrality.items(), key= lambda x: x[1], reverse=True)[:5]"
   ],
   "cell_type": "code",
   "metadata": {},
   "execution_count": 5,
   "outputs": [
    {
     "output_type": "execute_result",
     "data": {
      "text/plain": [
       "[('karev', 0.22580645161290322),\n",
       " ('sloan', 0.16129032258064516),\n",
       " ('torres', 0.12903225806451613),\n",
       " ('grey', 0.12903225806451613),\n",
       " ('izzie', 0.12903225806451613)]"
      ]
     },
     "metadata": {},
     "execution_count": 5
    }
   ]
  },
  {
   "cell_type": "code",
   "execution_count": 14,
   "metadata": {},
   "outputs": [
    {
     "output_type": "execute_result",
     "data": {
      "text/plain": [
       "[('karev', 7), ('sloan', 5), ('torres', 4), ('grey', 4), ('izzie', 4)]"
      ]
     },
     "metadata": {},
     "execution_count": 14
    }
   ],
   "source": [
    "sorted(GA.degree(),key = lambda x : x[1], reverse=True)[:5]"
   ]
  },
  {
   "source": [
    "### Closeness centrality:\n",
    "\n",
    "Average distance to all other nodes\n",
    "\n",
    "$C_C(u) = \\frac{n-1}{\\sum_{v=1}^{n-1} d(v,u)}$\n",
    "\n",
    "Reciprocal of this is the average distance to all other nodes.|"
   ],
   "cell_type": "markdown",
   "metadata": {}
  },
  {
   "cell_type": "code",
   "execution_count": 15,
   "metadata": {},
   "outputs": [
    {
     "output_type": "execute_result",
     "data": {
      "text/plain": [
       "{'lexi': 0.26253101736972706,\n",
       " 'sloan': 0.2892290869327502,\n",
       " 'karev': 0.2892290869327502,\n",
       " 'owen': 0.19173613628126135,\n",
       " 'yang': 0.1594814591498342,\n",
       " 'altman': 0.2337604949182501,\n",
       " 'torres': 0.29937747594793435,\n",
       " 'arizona': 0.21600653327888933,\n",
       " 'derek': 0.2337604949182501,\n",
       " 'grey': 0.2216170925848345,\n",
       " 'izzie': 0.24731182795698925,\n",
       " \"o'malley\": 0.2708653353814644,\n",
       " 'colin': 0.13228307076769194,\n",
       " 'preston': 0.13228307076769194,\n",
       " 'kepner': 0.21067303863002787,\n",
       " 'addison': 0.2892290869327502,\n",
       " 'nancy': 0.21067303863002787,\n",
       " 'olivia': 0.2337604949182501,\n",
       " 'mrs. seabury': 0.21067303863002787,\n",
       " 'chief': 0.07373271889400922,\n",
       " 'adele': 0.05161290322580645,\n",
       " 'ellis grey': 0.08602150537634408,\n",
       " 'thatch grey': 0.07373271889400922,\n",
       " 'susan grey': 0.05161290322580645,\n",
       " 'bailey': 0.06451612903225806,\n",
       " 'tucker': 0.04301075268817204,\n",
       " 'hank': 0.18752215526409075,\n",
       " 'denny': 0.18752215526409075,\n",
       " 'finn': 0.17236884978820463,\n",
       " 'steve': 0.17236884978820463,\n",
       " 'ben': 0.04301075268817204,\n",
       " 'avery': 0.19614386355209493}"
      ]
     },
     "metadata": {},
     "execution_count": 15
    }
   ],
   "source": [
    "closeness_centrality = nx.closeness_centrality(GA)\n",
    "closeness_centrality"
   ]
  },
  {
   "cell_type": "code",
   "execution_count": 16,
   "metadata": {},
   "outputs": [
    {
     "output_type": "execute_result",
     "data": {
      "text/plain": [
       "[('torres', 0.29937747594793435),\n",
       " ('sloan', 0.2892290869327502),\n",
       " ('karev', 0.2892290869327502),\n",
       " ('addison', 0.2892290869327502),\n",
       " (\"o'malley\", 0.2708653353814644)]"
      ]
     },
     "metadata": {},
     "execution_count": 16
    }
   ],
   "source": [
    "sorted(closeness_centrality.items(), key= lambda x: x[1], reverse=True)[:5]"
   ]
  },
  {
   "cell_type": "code",
   "execution_count": 17,
   "metadata": {},
   "outputs": [
    {
     "output_type": "execute_result",
     "data": {
      "text/plain": [
       "3.340264650283554"
      ]
     },
     "metadata": {},
     "execution_count": 17
    }
   ],
   "source": [
    "1/closeness_centrality['torres']"
   ]
  },
  {
   "source": [
    "### Betweeness Centrality \n",
    "\n",
    "Quantifies the number of times a node acts like a bridge(or a broker) along the shortest path between two other nodes \n",
    "\n",
    "$C_B(v) = \\sum_{S,J \\in V} \\frac{\\sigma(s,t|v)}{\\sigma(s,t)}$\n",
    "\n",
    "Denominator is the total number of shortest paths from node s to node t and numerator is the number of those that pass through v. "
   ],
   "cell_type": "markdown",
   "metadata": {}
  },
  {
   "cell_type": "code",
   "execution_count": 22,
   "metadata": {},
   "outputs": [
    {
     "output_type": "execute_result",
     "data": {
      "text/plain": [
       "{'lexi': 0.07741935483870968,\n",
       " 'sloan': 0.248100358422939,\n",
       " 'karev': 0.2048745519713262,\n",
       " 'owen': 0.12903225806451613,\n",
       " 'yang': 0.09247311827956989,\n",
       " 'altman': 0.16344086021505377,\n",
       " 'torres': 0.14440860215053763,\n",
       " 'arizona': 0.0,\n",
       " 'derek': 0.038602150537634404,\n",
       " 'grey': 0.10078853046594982,\n",
       " 'izzie': 0.10311827956989246,\n",
       " \"o'malley\": 0.11702508960573477,\n",
       " 'colin': 0.0,\n",
       " 'preston': 0.0,\n",
       " 'kepner': 0.0,\n",
       " 'addison': 0.09480286738351255,\n",
       " 'nancy': 0.0,\n",
       " 'olivia': 0.01064516129032258,\n",
       " 'mrs. seabury': 0.0,\n",
       " 'chief': 0.0064516129032258064,\n",
       " 'adele': 0.0,\n",
       " 'ellis grey': 0.008602150537634409,\n",
       " 'thatch grey': 0.0064516129032258064,\n",
       " 'susan grey': 0.0,\n",
       " 'bailey': 0.002150537634408602,\n",
       " 'tucker': 0.0,\n",
       " 'hank': 0.0,\n",
       " 'denny': 0.0,\n",
       " 'finn': 0.0,\n",
       " 'steve': 0.0,\n",
       " 'ben': 0.0,\n",
       " 'avery': 0.0}"
      ]
     },
     "metadata": {},
     "execution_count": 22
    }
   ],
   "source": [
    "betweenness_centrality = nx.betweenness_centrality(GA)\n",
    "betweenness_centrality"
   ]
  },
  {
   "cell_type": "code",
   "execution_count": 23,
   "metadata": {},
   "outputs": [
    {
     "output_type": "execute_result",
     "data": {
      "text/plain": [
       "[('sloan', 0.248100358422939),\n",
       " ('karev', 0.2048745519713262),\n",
       " ('altman', 0.16344086021505377),\n",
       " ('torres', 0.14440860215053763),\n",
       " ('owen', 0.12903225806451613)]"
      ]
     },
     "metadata": {},
     "execution_count": 23
    }
   ],
   "source": [
    "sorted(betweenness_centrality.items(), key= lambda x: x[1], reverse=True)[:5]"
   ]
  },
  {
   "source": [
    "### Eigenvector Centrality \n",
    "\n",
    "Node with high eigen vector cardinality are connected to nodes which have high eigen vector. \n",
    "Not just the quantity but also the quality. Here quality is the connectness\n",
    "\n",
    "${\\displaystyle x_{v}={\\frac {1}{\\lambda }}\\sum _{t\\in M(v)}x_{t}={\\frac {1}{\\lambda }}\\sum _{t\\in G}a_{v,t}x_{t}}$\n",
    "\n"
   ],
   "cell_type": "markdown",
   "metadata": {}
  },
  {
   "cell_type": "code",
   "execution_count": 24,
   "metadata": {},
   "outputs": [
    {
     "output_type": "execute_result",
     "data": {
      "text/plain": [
       "{'lexi': 0.26424680180934534,\n",
       " 'sloan': 0.3226885189834077,\n",
       " 'karev': 0.502765929935718,\n",
       " 'owen': 0.0340951785615966,\n",
       " 'yang': 0.012046878049189772,\n",
       " 'altman': 0.10443160377884472,\n",
       " 'torres': 0.3609266644703912,\n",
       " 'arizona': 0.10564217608811323,\n",
       " 'derek': 0.12570927644873783,\n",
       " 'grey': 0.15107970429307171,\n",
       " 'izzie': 0.2842593314893894,\n",
       " \"o'malley\": 0.3020100450564303,\n",
       " 'colin': 0.0035273360425288774,\n",
       " 'preston': 0.0035273360425288774,\n",
       " 'kepner': 0.14715740970512992,\n",
       " 'addison': 0.2784034899141397,\n",
       " 'nancy': 0.09445089593868505,\n",
       " 'olivia': 0.235554604339933,\n",
       " 'mrs. seabury': 0.14715740970512992,\n",
       " 'chief': 1.0663186023876088e-06,\n",
       " 'adele': 6.156393321318697e-07,\n",
       " 'ellis grey': 1.2312786642593052e-06,\n",
       " 'thatch grey': 1.0663186023876088e-06,\n",
       " 'susan grey': 6.156393321318697e-07,\n",
       " 'bailey': 4.7944137268011994e-08,\n",
       " 'tucker': 3.390162458034995e-08,\n",
       " 'hank': 0.0832011015170876,\n",
       " 'denny': 0.0832011015170876,\n",
       " 'finn': 0.044221065458551645,\n",
       " 'steve': 0.044221065458551645,\n",
       " 'ben': 3.390162458034995e-08,\n",
       " 'avery': 0.0773443543109332}"
      ]
     },
     "metadata": {},
     "execution_count": 24
    }
   ],
   "source": [
    "eigenvector_centrality = nx.eigenvector_centrality(GA)\n",
    "eigenvector_centrality"
   ]
  },
  {
   "cell_type": "code",
   "execution_count": 27,
   "metadata": {},
   "outputs": [
    {
     "output_type": "execute_result",
     "data": {
      "text/plain": [
       "[('karev', 1.0),\n",
       " ('torres', 0.7178821057276854),\n",
       " ('sloan', 0.6418265434665902),\n",
       " (\"o'malley\", 0.6006971178318394),\n",
       " ('izzie', 0.5653909991986408)]"
      ]
     },
     "metadata": {},
     "execution_count": 27
    }
   ],
   "source": [
    "max_value = max(eigenvector_centrality.items(), key= lambda x: x[1])\n",
    "\n",
    "ec_scaled = {}\n",
    "for k in eigenvector_centrality.keys():\n",
    "    ec_scaled[k] = eigenvector_centrality[k]/max_value[1]\n",
    "\n",
    "sorted(ec_scaled.items(), key= lambda x: x[1], reverse=True)[:5]"
   ]
  },
  {
   "source": [],
   "cell_type": "markdown",
   "metadata": {}
  }
 ]
}